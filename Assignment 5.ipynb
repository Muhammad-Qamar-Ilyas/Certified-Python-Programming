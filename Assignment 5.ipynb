{
 "cells": [
  {
   "cell_type": "code",
   "execution_count": 2,
   "metadata": {},
   "outputs": [
    {
     "name": "stdout",
     "output_type": "stream",
     "text": [
      "Please enter the integer you like to find factorial of : Four\n",
      "\n",
      "I told you enter only integer .... Damn it!! ... Now lets do this again.\n",
      "\n",
      "Please enter the integer you like to find factorial of : 4.0\n",
      "\n",
      "I told you enter only integer .... Damn it!! ... Now lets do this again.\n",
      "\n",
      "Please enter the integer you like to find factorial of : -4\n",
      "\n",
      "OHH GOD !! Please enter positive integer!\n",
      "\n",
      "Please enter the integer you like to find factorial of : 4\n",
      "\n",
      "The factorial of 4 is 24\n",
      "\n",
      "Good Bye\n"
     ]
    }
   ],
   "source": [
    "\"\"\"\n",
    "\n",
    "Question:1\n",
    "Write a Python function to calculate the factorial of a number (a non-negative\n",
    "integer). The function accepts the number as an argument.\n",
    "\n",
    "\"\"\"\n",
    "import math                                                                                        # Used to find factorial\n",
    "\n",
    "def factorial(value):                                                                              #Factorial function\n",
    "    if value>=0 :                                                                                  #Find if value is positive integer or not\n",
    "        print(\"\\nThe factorial of {} is {}\".format(value,math.factorial(value)))                   # math.factorial() is the syntex to find factorial\n",
    "        x=0                                                                                        # if the program finds the factorial, it changes value of x to 0 to quit the program\n",
    "        return x                                                                                   # This function don't have a perimeter for returning a value so we used return function to return the value\n",
    "        \n",
    "    else:\n",
    "        print(\"\\nOHH GOD !! Please enter positive integer!\\n\")\n",
    "        x=1                                                                                        # x is 1 so the while loop will run once again\n",
    "        return x\n",
    "\n",
    "        \n",
    "def int_or_not(value):                                                                             # Function to make sure that user has not input any string or float\n",
    "    try:\n",
    "        int(value)                                                                                 # if the input can be converted to interger it will return TRUE\n",
    "        return True\n",
    "    except ValueError:                                                                             # if it is not possible to convert input to integer, instead of showing error, it will return false\n",
    "        return False\n",
    "\n",
    "x=1                                                                                                # x is 1 so the loop will execute atleast once\n",
    "while x==1:\n",
    "    user_input = input(\"Please enter the integer you like to find factorial of : \")                # User input\n",
    "    int_or_not(user_input)                                                                         # integer finding function\n",
    "    if int_or_not(user_input):                                                                     # if int_or_not function is TRUE, it will execute furthur\n",
    "        x=factorial(int(user_input))                                                               # here a variable is used to store the returned value and int() function is used because input is still a STRING\n",
    "        \n",
    "    else:                                                                                          # if int_or_not function returns FALSE, then the loop will execute once again\n",
    "        print(\"\\nI told you enter only integer .... Damn it!! ... Now lets do this again.\\n\")\n",
    "\n",
    "print(\"\\nGood Bye\")                                                                                # After exiting loop"
   ]
  },
  {
   "cell_type": "code",
   "execution_count": 34,
   "metadata": {},
   "outputs": [
    {
     "name": "stdout",
     "output_type": "stream",
     "text": [
      "Enter any string : CSKJncdj345  @#$fhjfCKD1\n",
      "\n",
      "The number of lowercase characters is :  8\n",
      "\n",
      "The number of uppercase characters is :  7\n",
      "\n",
      "The number of special characters is :  7\n",
      "\n",
      "The number of spaces in the string is :  2\n",
      "\n",
      "User string in Uppercase is  (CSKJNCDJ345  @#$FHJFCKD1) and in Lowercase is (cskjncdj345  @#$fhjfckd1) \n"
     ]
    }
   ],
   "source": [
    "\"\"\"\n",
    "\n",
    "Question:2\n",
    "Write a Python function that accepts a string and calculate the number of upper\n",
    "case letters and lower case letters.\n",
    "\n",
    "\"\"\"\n",
    "def string_calculator():\n",
    "    user_input = input(\"Enter any string : \")             # User input\n",
    "\n",
    "    convert_to_upper = user_input.upper()                 # Converting user input to uppercase letters\n",
    "    convert_to_lower = user_input.lower()                 # Converting user input to lowercase letters\n",
    "\n",
    "    uppercase = 0\n",
    "    lowercase = 0\n",
    "    special_character = 0\n",
    "    space = 0\n",
    "    \n",
    "    for x in user_input:                                  # Running a loop for all the characters in user input \n",
    "        if(x.islower()):                                  # Using .islower function to find lower cases in user input\n",
    "            lowercase = lowercase + 1                     # Add 1 if lower case is found\n",
    "            \n",
    "        elif(x.isupper()):                                # Using .isupper function to find upper cases in user input\n",
    "            uppercase = uppercase + 1                     # Add 1 if upper case is found\n",
    "            \n",
    "        elif(x.isspace()):                                # Using .isspace function to find spaces cases in user input\n",
    "            space = space + 1                             # Add 1 if space is found\n",
    "            \n",
    "        else:                                             # Else, left characters are special character\n",
    "            special_character = special_character+1       # Add 1 if special character is found\n",
    "            \n",
    "    return convert_to_upper, convert_to_lower, uppercase, lowercase, special_character, space                     # Returning values form the function we want\n",
    "\n",
    "convert_to_upper, convert_to_lower, uppercase, lowercase, special_character, space = string_calculator()          # Storing values from function by using same no. of variables as returing values\n",
    "\n",
    "print(\"\\nThe number of lowercase characters is : \",lowercase)                                                     # Printing number of lowercases in string\n",
    "print(\"\\nThe number of uppercase characters is : \",uppercase)                                                     # Printing number of uppercases in string\n",
    "print(\"\\nThe number of special characters is : \",special_character)                                               # Printing number of special characters in string\n",
    "print(\"\\nThe number of spaces in the string is : \",space)                                                         # Printing number of spaces in string\n",
    "print(\"\\nUser string in Uppercase is  ({}) and in Lowercase is ({}) \".format(convert_to_upper,convert_to_lower))  # Printing string in lower and upper case"
   ]
  },
  {
   "cell_type": "code",
   "execution_count": 40,
   "metadata": {},
   "outputs": [
    {
     "name": "stdout",
     "output_type": "stream",
     "text": [
      "\n",
      "Given List is :  [44, 17, 56, 25, 33, 86, 98]\n",
      "\n",
      "New even number list is :  [44, 56, 86, 98]\n"
     ]
    }
   ],
   "source": [
    "\"\"\"\n",
    "\n",
    "Question:3\n",
    "Write a Python function to print the even numbers from a given list.\n",
    "\n",
    "\"\"\"\n",
    "\n",
    "def even_no_finder (list_of_num):                  # Function to find even numbers\n",
    "    new_list_of_num = []                           # List to store even numbers\n",
    "    for x in list_of_num :                         # Loop for checking even number\n",
    "        check = x%2                                # Condition for every item in list \n",
    "        if check==0:                               # If condition is true, execute furthur\n",
    "            new_list_of_num.append(x)              # Append to new list if even no. is found\n",
    "    return new_list_of_num                         # Return the new list\n",
    "\n",
    "number_list = [44,17,56,25,33,86,98]               # List of random no.s\n",
    "new_list = even_no_finder(number_list)             # Executing function and storing values in a variable \n",
    "print(\"\\nGiven List is : \",number_list)            # Printing given list\n",
    "print(\"\\nNew even number list is : \",new_list)     # Printing list with even no."
   ]
  },
  {
   "cell_type": "code",
   "execution_count": 66,
   "metadata": {},
   "outputs": [
    {
     "name": "stdout",
     "output_type": "stream",
     "text": [
      "\n",
      "Given List is :  ['Aslam', 'Level', 'Chair', 'Noon', 'Metric', 'Refer', 'Wow']\n",
      "\n",
      "New palindrome list is :  ['Level', 'Noon', 'Refer', 'Wow']\n"
     ]
    }
   ],
   "source": [
    "\"\"\"\n",
    "\n",
    "Question:4\n",
    "Write a Python function that checks whether a passed string is palindrome or not.\n",
    "Note: A palindrome is a word, phrase, or sequence that reads the same\n",
    "backward as forward, e.g., madam \n",
    "\n",
    "\"\"\"\n",
    "\n",
    "def reverse(s):                                                  # Function to reverse string\n",
    "    return s[::-1]                                               # Return reversed string by implementing logic\n",
    "\n",
    "def find_palindrome(given_list):                                 # Function to find palindrome words\n",
    "    new_list = []                                                # List to add palindrome values\n",
    "    for x in given_list:                                         # Loop to find palindrome words through the list\n",
    "        lower = x.lower()                                        # First converting all items in the list to same word case, lowercase is used here\n",
    "        rev = reverse(lower)                                     # Stroing sting in reverse , using reverse function\n",
    "        if lower == rev :                                        # Condition to check if lowercased given list is equal to its reversed value\n",
    "            new_list.append(x)                                   # If true then append the item in given list (not lowered one) to new list\n",
    "    return new_list                                              # Return the list\n",
    "\n",
    "y = [\"Aslam\", \"Level\", \"Chair\",\"Noon\",\"Metric\",\"Refer\",\"Wow\"]    # List given\n",
    "\n",
    "z = find_palindrome(y)                                           # Executing palindrome function and storing returned value to a variable\n",
    "\n",
    "print(\"\\nGiven List is : \",y)                                    # Printing given list\n",
    "print(\"\\nNew palindrome list is : \",z)                           # Printing Palindrome List"
   ]
  },
  {
   "cell_type": "code",
   "execution_count": 75,
   "metadata": {},
   "outputs": [
    {
     "name": "stdout",
     "output_type": "stream",
     "text": [
      "Please enter the number234783\n",
      "234783 is not a prime number\n",
      "3 times 78261 is 234783\n",
      "\n",
      "Do you like to check again? Y/N : y\n",
      "Please enter the number13\n",
      "13 is a prime number\n",
      "\n",
      "Do you like to check again? Y/N : n\n",
      "\n",
      "Good Bye\n"
     ]
    }
   ],
   "source": [
    "\"\"\"\n",
    "\n",
    "Question:5\n",
    "Write a Python function that takes a number as a parameter and check the\n",
    "number is prime or not.\n",
    "\n",
    "\"\"\"\n",
    "\n",
    "x=\"Y\"                                                                # Variable for loop condition check\n",
    "while x==\"Y\" or x=='y':                                              # Loop for checking prime number again and again\n",
    "\n",
    "    num = int(input(\"Please enter the number\"))                      # User input for finding prime number\n",
    "\n",
    "    if num > 1:                                                      # Prime numbers are greater than 1 \n",
    "        for i in range(2,num):                                       # Checking for factors from range 2 till user input\n",
    "            if (num % i) == 0:                                       # If user input divided by range produces zero ramainder\n",
    "                print(num,\"is not a prime number\")                   # Then the factor is found, print NOT A PRIME NUMBER\n",
    "                print(i,\"times\",num//i,\"is\",num)                     # Proof that factor exist, dividing number from range by user input\n",
    "                x = input(\"\\nDo you like to check again? Y/N : \")    # If user wants to check again , input decision\n",
    "                break                                                # Don't check furthur for factors\n",
    "        else:                                                        # If no factor found then it's a prime number\n",
    "            print(num,\"is a prime number\")                           # Print PRIME NUMBER\n",
    "            x = input(\"\\nDo you like to check again? Y/N : \")        # If user wants to check again , input decision  \n",
    "\n",
    "    else:                                                            # If input number is less than or equal to 1, it is not prime\n",
    "        print(num,\"is not a prime number\")                           # It's not a prime number\n",
    "        x = input(\"\\nDo you like to check again? Y/N : \")            # If user wants to check again , input decision\n",
    "\n",
    "print(\"\\nGood Bye\")"
   ]
  },
  {
   "cell_type": "code",
   "execution_count": 77,
   "metadata": {},
   "outputs": [
    {
     "name": "stdout",
     "output_type": "stream",
     "text": [
      "Toothpaste\n",
      "Soap\n",
      "Washingpowder\n",
      "Dishes\n",
      "Potato\n"
     ]
    }
   ],
   "source": [
    "\"\"\"\n",
    "\n",
    "Question: 6\n",
    "Suppose a customer is shopping in a market and you need to print all the items\n",
    "which user bought from market.\n",
    "Write a function which accepts the multiple arguments of user shopping list and\n",
    "print all the items which user bought from market.\n",
    "(Hint: Arbitrary Argument concept can make this task ease)\n",
    "\n",
    "\"\"\"\n",
    "\n",
    "def shopping(*things):                                               # Function to pirnt shopping list, using arbitrary argumnent\n",
    "    for x in things:                                                 # Loop for printing items\n",
    "        print(x)                                                     # Print items\n",
    "\n",
    "shopping(\"Toothpaste\", \"Soap\",\"Washingpowder\",\"Dishes\",\"Potato\")     # Multiple arguments given to shopping function"
   ]
  },
  {
   "cell_type": "code",
   "execution_count": null,
   "metadata": {},
   "outputs": [],
   "source": []
  }
 ],
 "metadata": {
  "kernelspec": {
   "display_name": "Python 3",
   "language": "python",
   "name": "python3"
  },
  "language_info": {
   "codemirror_mode": {
    "name": "ipython",
    "version": 3
   },
   "file_extension": ".py",
   "mimetype": "text/x-python",
   "name": "python",
   "nbconvert_exporter": "python",
   "pygments_lexer": "ipython3",
   "version": "3.7.4"
  }
 },
 "nbformat": 4,
 "nbformat_minor": 2
}
