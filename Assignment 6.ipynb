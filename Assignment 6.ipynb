{
 "cells": [
  {
   "cell_type": "code",
   "execution_count": null,
   "metadata": {},
   "outputs": [],
   "source": [
    "\"\"\" \n",
    "Question 1: Define Object Oriented Programming Language? \n",
    "\n",
    "Answer : Object-oriented programming (OOP) refers to a type of computer programming (software design)\n",
    "in which programmers define the data type of a data structure, and also the types of operations (functions) \n",
    "that can be applied to the data structure.In this way, the data structure becomes an object that includes \n",
    "both data and functions. In addition, programmers can create relationships between one object and another.\n",
    "For example, objects can inherit characteristics from other objects.\n",
    "\n",
    "\n",
    "                                                    OR\n",
    "                                                    \n",
    "                                                    \n",
    "Object-oriented programming (OOP) is a programming language model in which programs are organized around data,\n",
    "or objects, rather than functions and logic. An object can be defined as a data field that has unique attributes\n",
    "and behavior.\"\"\""
   ]
  },
  {
   "cell_type": "code",
   "execution_count": null,
   "metadata": {},
   "outputs": [],
   "source": [
    "\"\"\"\n",
    "Question 2: List down the Benefits of OOP?\n",
    "\n",
    "Answer : \n",
    "\n",
    "1. Re-usability\n",
    "2. Data Redundancy\n",
    "3. Code Maintenance\n",
    "4. Security\n",
    "5. Design Benefits\n",
    "6. Better productivity\n",
    "7. Easy troubleshooting \"\"\""
   ]
  },
  {
   "cell_type": "code",
   "execution_count": null,
   "metadata": {},
   "outputs": [],
   "source": [
    "\"\"\"\n",
    "Question 3: Differentiate between function and method?\n",
    "\n",
    "Answer : A function is a piece of code that is called by name. It can be passed data to operate on (i.e. the parameters) \n",
    "and can optionally return data (the return value). All data that is passed to a function is explicitly passed.\n",
    "\n",
    "A method is a piece of code that is called by a name that is associated with an object. In most respects it is identical \n",
    "to a function except for two key differences:\n",
    "\n",
    "A method is implicitly passed the object on which it was called.\n",
    "A method is able to operate on data that is contained within the class \n",
    "(remembering that an object is an instance of a class - the class is the definition, the object is an instance of that data).\n",
    "\"\"\""
   ]
  },
  {
   "cell_type": "code",
   "execution_count": null,
   "metadata": {},
   "outputs": [],
   "source": [
    "\"\"\"\n",
    "Question 4: Define the following terms:\n",
    "1. Class\n",
    "2. Object\n",
    "3. Attribute\n",
    "4. Behavior\n",
    "\n",
    "Class : In object-oriented programming, a class is a blueprint for creating objects (a particular data structure), \n",
    "providing initial values for state (member variables or attributes), and implementations of behavior (member functions \n",
    "or methods). The user-defined objects are created using the class keyword.\n",
    "\n",
    "Object : In object-oriented programming (OOP), objects are the things you think about first in designing a program \n",
    "and they are also the units of code that are eventually derived from the process. Each object is an instance of a \n",
    "particular class or subclass with the class's own methods or procedures and data variables.\n",
    "\n",
    "Attribute : In Object-oriented programming(OOP), classes and objects have attributes. Attributes are data stored \n",
    "inside a class or instance and represent the state or quality of the class or instance. In short, attributes store \n",
    "information about the instance.\n",
    "\n",
    "Behavior : A class's behavior determines how an instance of that class operates; for example, how it will \"react\" if \n",
    "asked to do something by another class or object or if its internal state changes. Behavior is the only way objects \n",
    "can do anything to themselves or have anything done to them.\n",
    "\n",
    "\"\"\""
   ]
  },
  {
   "cell_type": "code",
   "execution_count": 12,
   "metadata": {},
   "outputs": [
    {
     "name": "stdout",
     "output_type": "stream",
     "text": [
      "Car name : RAV4\n",
      "Car Model : 2019\n",
      "Car Color : Black\n",
      "Car Price : $30,000\n",
      "Car Manufacturer : Toyota\n",
      "The car is of SUV category\n",
      "The car have power windows\n",
      "The car have power searing\n"
     ]
    }
   ],
   "source": [
    "\"\"\"\n",
    "Question 5:\n",
    "Write a code in python in which create a class named it Car which\n",
    "have 5 attributes such like (model, color and name etc.) and 3\n",
    "methods. And create 5 object instance from that class.  \"\"\"\n",
    "\n",
    "class Cars:\n",
    "    def __init__(self,name,model,color,price,manufacturer):\n",
    "        self.name = name\n",
    "        self.model = model\n",
    "        self.color = color\n",
    "        self.price = price\n",
    "        self.manufacturer = manufacturer\n",
    "        \n",
    "\n",
    "    def category(self):\n",
    "        print(\"The car is of SUV category\")\n",
    "    \n",
    "    def power_window (self):\n",
    "        print(\"The car have power windows\")\n",
    "    \n",
    "    def power_stearing (self):\n",
    "        print(\"The car have power searing\")\n",
    "\n",
    "\n",
    "car1 = Cars(\"Wrangler\",\"2019\",\"White\",\"$28,295\",\"Jeep\")\n",
    "car2 = Cars(\"RAV4\",\"2019\",\"Black\",\"$30,000\",\"Toyota\")\n",
    "car3 = Cars(\"CR-V\",\"2019\",\"Grey\",\"$26,145\",\"Honda\")\n",
    "car4 = Cars(\"Explorer\",\"2019\",\"Black\",\"$32,765\",\"Ford\")\n",
    "car5 = Cars(\"Journey\",\"2019\",\"Blue\",\"$23,245\",\"Dodge\")\n",
    "\n",
    "print(\"Car name : {}\\nCar Model : {}\\nCar Color : {}\\nCar Price : {}\\nCar Manufacturer : {}\".format(car2.name,car2.model,car2.color,car2.price,car2.manufacturer))\n",
    "car2.category()\n",
    "car2.power_window()\n",
    "car2.power_stearing()"
   ]
  },
  {
   "cell_type": "code",
   "execution_count": null,
   "metadata": {},
   "outputs": [],
   "source": []
  }
 ],
 "metadata": {
  "kernelspec": {
   "display_name": "Python 3",
   "language": "python",
   "name": "python3"
  },
  "language_info": {
   "codemirror_mode": {
    "name": "ipython",
    "version": 3
   },
   "file_extension": ".py",
   "mimetype": "text/x-python",
   "name": "python",
   "nbconvert_exporter": "python",
   "pygments_lexer": "ipython3",
   "version": "3.7.4"
  }
 },
 "nbformat": 4,
 "nbformat_minor": 2
}
