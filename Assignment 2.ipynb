{
 "cells": [
  {
   "cell_type": "code",
   "execution_count": 5,
   "metadata": {},
   "outputs": [
    {
     "name": "stdout",
     "output_type": "stream",
     "text": [
      "Please insert your Chemistry Marks: 78\n",
      "Please insert your Physics Marks: 92\n",
      "Please insert your Maths Marks: 86\n",
      "Please insert your Islamiat Marks: 95\n",
      "Please insert your English Marks: 81\n",
      "Your acquired percentage is  86.4\n",
      "Grade A\n"
     ]
    }
   ],
   "source": [
    "#Write a program which takes 5 inputs from user for different subject’s marks, total it and generate mark sheet using grades ?\n",
    "\n",
    "\n",
    "Chemistry = input(\"Please insert your Chemistry Marks: \")\n",
    "Physics = input(\"Please insert your Physics Marks: \")\n",
    "Maths = input(\"Please insert your Maths Marks: \")\n",
    "Islamiat = input(\"Please insert your Islamiat Marks: \")\n",
    "English = input(\"Please insert your English Marks: \")\n",
    "\n",
    "Marks_Obtained = int(Chemistry) + int(Physics) + int(Maths) + int(Islamiat) + int(English) ;\n",
    "Total_Marks = 500;\n",
    "\n",
    "Percentage = (Marks_Obtained/Total_Marks) * 100;\n",
    "print(\"Your acquired percentage is \", Percentage)\n",
    "\n",
    "if(Percentage >= 90) :\n",
    "    print(\"Grade A+\")\n",
    "elif(Percentage >= 79 and Percentage <= 89):\n",
    "    print(\"Grade A\")\n",
    "elif(Percentage >= 70 and Percentage <= 78):\n",
    "    print(\"Grade B+\")\n",
    "elif(Percentage >= 60 and Percentage<= 69):\n",
    "    print(\"Grade B\")\n",
    "elif(Percentage >= 50 and Percentage<= 59):\n",
    "    print(\"Grade C\")\n",
    "else : \n",
    "    print(\"Fail\")"
   ]
  },
  {
   "cell_type": "code",
   "execution_count": 8,
   "metadata": {},
   "outputs": [
    {
     "name": "stdout",
     "output_type": "stream",
     "text": [
      "Enter your number: 8\n",
      "The number you entered is an even number.\n"
     ]
    }
   ],
   "source": [
    "#Write a program which take input from user and identify that the given number is even or odd?\n",
    "\n",
    "User_input = int(input(\"Enter your number: \"))\n",
    "Remainder = User_input % 2\n",
    "if Remainder > 0:\n",
    "    print(\"The number you entered is an odd number.\")\n",
    "else: \n",
    "    print(\"The number you entered is an even number.\")"
   ]
  },
  {
   "cell_type": "code",
   "execution_count": 9,
   "metadata": {},
   "outputs": [
    {
     "name": "stdout",
     "output_type": "stream",
     "text": [
      "The Length of the list is:  6\n"
     ]
    }
   ],
   "source": [
    "#Write a program which print the length of the list?\n",
    "\n",
    "Animals = len([\"Cat\",\"Dog\",\"Horse\",\"Lion\",\"Cow\",\"Sheep\"])\n",
    "print(\"The Length of the list is: \", Animals)"
   ]
  },
  {
   "cell_type": "code",
   "execution_count": 29,
   "metadata": {},
   "outputs": [
    {
     "name": "stdout",
     "output_type": "stream",
     "text": [
      "How many numbers do you want to enter: 9\n",
      "Enter number: 3\n",
      "Enter number: 5\n",
      "Enter number: 1\n",
      "Enter number: 8\n",
      "Enter number: 56\n",
      "Enter number: 3\n",
      "Enter number: 5\n",
      "Enter number: 8\n",
      "Enter number: 3\n",
      "Sum of the list is:  92\n"
     ]
    }
   ],
   "source": [
    "#Write a Python program to sum all the numeric items in a list?\n",
    "\n",
    "num = int(input(\"How many numbers do you want to enter: \"))\n",
    "lst = []\n",
    "for n in range (num):\n",
    "    numbers = int(input(\"Enter number: \"))\n",
    "    lst.append(numbers)\n",
    "       \n",
    "print(\"Sum of the list is: \", sum(lst))"
   ]
  },
  {
   "cell_type": "code",
   "execution_count": 30,
   "metadata": {},
   "outputs": [
    {
     "name": "stdout",
     "output_type": "stream",
     "text": [
      "How many numbers do you want to enter: 4\n",
      "Enter number: 7\n",
      "Enter number: 30\n",
      "Enter number: 99\n",
      "Enter number: 1999\n",
      "Largest element in the list is:  1999\n"
     ]
    }
   ],
   "source": [
    "#Write a Python program to get the largest number from a numeric list.\n",
    "\n",
    "num = int(input(\"How many numbers do you want to enter: \"))\n",
    "lst = []\n",
    "for n in range (num):\n",
    "    numbers = int(input(\"Enter number: \"))\n",
    "    lst.append(numbers)\n",
    "       \n",
    "print(\"Largest element in the list is: \", max(lst))"
   ]
  },
  {
   "cell_type": "code",
   "execution_count": 31,
   "metadata": {},
   "outputs": [
    {
     "name": "stdout",
     "output_type": "stream",
     "text": [
      "[1, 1, 2, 3]\n"
     ]
    }
   ],
   "source": [
    "#Take a list, say for example this one:\n",
    "# a = [1, 1, 2, 3, 5, 8, 13, 21, 34, 55, 89]\n",
    "# and write a program that prints out all the elements of the list that are less than 5.\n",
    "\n",
    "a = [1,1,2,3,5,8,13,21,34,55,89]\n",
    "\n",
    "new_list = []\n",
    "for item in a:\n",
    "    if item < 5:\n",
    "        \n",
    "        new_list.append(item)\n",
    "\n",
    "print(new_list)"
   ]
  },
  {
   "cell_type": "code",
   "execution_count": null,
   "metadata": {},
   "outputs": [],
   "source": []
  }
 ],
 "metadata": {
  "kernelspec": {
   "display_name": "Python 3",
   "language": "python",
   "name": "python3"
  },
  "language_info": {
   "codemirror_mode": {
    "name": "ipython",
    "version": 3
   },
   "file_extension": ".py",
   "mimetype": "text/x-python",
   "name": "python",
   "nbconvert_exporter": "python",
   "pygments_lexer": "ipython3",
   "version": "3.7.4"
  }
 },
 "nbformat": 4,
 "nbformat_minor": 2
}
