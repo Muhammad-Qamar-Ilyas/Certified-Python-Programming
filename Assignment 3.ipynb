{
 "cells": [
  {
   "cell_type": "code",
   "execution_count": 1,
   "metadata": {},
   "outputs": [
    {
     "name": "stdout",
     "output_type": "stream",
     "text": [
      "Welcome to the MR. Calculator program\n",
      "\n",
      "Please select the arithematic operator ( + , - , * , / , ^ ) : /\n",
      "Please enter first number : 99\n",
      "Please enter second number : 11\n",
      "\n",
      "The answer is :  9.0\n"
     ]
    }
   ],
   "source": [
    "# Make a calculator using Python with addition , subtraction , multiplication , division and power.\n",
    "\n",
    "print(\"Welcome to the MR. Calculator program\")\n",
    "\n",
    "sign = input(\"\\nPlease select the arithematic operator ( + , - , * , / , ^ ) : \")\n",
    "if sign == '+':\n",
    "    first_number = int(input(\"Please enter first number : \"))\n",
    "    second_number = int(input(\"Please enter second number : \"))\n",
    "    print(\"\\nThe answer is : \",first_number+second_number)\n",
    "elif sign == '-':\n",
    "    first_number = int(input(\"Please enter first number : \"))\n",
    "    second_number = int(input(\"Please enter second number : \"))\n",
    "    print(\"\\nThe answer is : \",first_number-second_number)\n",
    "elif sign == '*':\n",
    "    first_number = int(input(\"Please enter first number : \"))\n",
    "    second_number = int(input(\"Please enter second number : \"))\n",
    "    print(\"\\nThe answer is : \",first_number*second_number)\n",
    "elif sign == '/':\n",
    "    first_number = int(input(\"Please enter first number : \"))\n",
    "    second_number = int(input(\"Please enter second number : \"))\n",
    "    print(\"\\nThe answer is : \",first_number/second_number)\n",
    "elif sign == '^':\n",
    "    number = int(input(\"Please enter the number : \"))\n",
    "    power = int(input(\"Please enter the power : \"))\n",
    "    print(\"\\nThe answer is : \",number**power)\n",
    "else:\n",
    "    print(\"\\nPlease enter correct arithematic operator\")"
   ]
  },
  {
   "cell_type": "code",
   "execution_count": 4,
   "metadata": {},
   "outputs": [
    {
     "data": {
      "text/plain": [
       "[88, 91, 67]"
      ]
     },
     "execution_count": 4,
     "metadata": {},
     "output_type": "execute_result"
    }
   ],
   "source": [
    "# Write a program to check if there is any numeric value in list using for loop\n",
    "\n",
    "lst =[\"Cat\", \"Dog\",88,\"Aslam\",91,42.5,67,\"Pakistan\"]\n",
    "[integer for integer in lst if isinstance(integer, int)]"
   ]
  },
  {
   "cell_type": "code",
   "execution_count": 42,
   "metadata": {},
   "outputs": [
    {
     "name": "stdout",
     "output_type": "stream",
     "text": [
      "\n",
      "Defined dictionary\n",
      "\n",
      "The patient's first name is  Zunair\n",
      "The patient's last name is  Ali Syed\n",
      "The patient's problem is  Ego boy\n",
      "\n",
      "Updated dictionary\n",
      "\n",
      "The patient's first name is Zunair\n",
      "The patient's last name is Ali Syed\n",
      "The patient's problem is Ego boy\n",
      "The patient's fee is 1000\n",
      "The patient's discount is 20 PKR\n"
     ]
    }
   ],
   "source": [
    "# Write a Python script to add a key to a dictionary\n",
    "\n",
    "Patients = [{\"first name\" : \"Shujaat\" , \"last name\" : \"Siddique\" , \"problem\" : \"To act cool\"},\n",
    "            {\"first name\" : \"Faizan\" , \"last name\" : \"Aslam\" , \"problem\" : \"To blame everyone\"},\n",
    "           {\"first name\" : \"Zunair\" , \"last name\" : \"Ali Syed\" , \"problem\" : \"Ego boy\"}]\n",
    "\n",
    "print(\"\\nDefined dictionary\\n\")\n",
    "\n",
    "for key_name,key_value in Patients[2].items():\n",
    "    print(\"The patient's \" +key_name+ \" is \",key_value)\n",
    "\n",
    "print(\"\\nUpdated dictionary\\n\")\n",
    "Patients[2].update([(\"fee\",1000),(\"discount\",\"20 PKR\")])\n",
    "\n",
    "for key_name,key_value in Patients[2].items():\n",
    "    print(\"The patient's {} is {}\".format(key_name,key_value))"
   ]
  },
  {
   "cell_type": "code",
   "execution_count": 43,
   "metadata": {},
   "outputs": [
    {
     "name": "stdout",
     "output_type": "stream",
     "text": [
      "The patient's first name is Faizan\n",
      "The patient's last name is Aslam\n",
      "The patient's problem is To blame everyone\n",
      "The patient's fee is 1000\n",
      "The patient's smoking fine is 3540\n",
      "The patient's bad behaviour fine is 2187.69\n",
      "\n",
      "Sum of numerical values is : 6727.69\n"
     ]
    }
   ],
   "source": [
    "# Write a Python program to sum all the numeric items in a dictionary\n",
    "\n",
    "Patient = {\"first name\" : \"Faizan\" , \"last name\" : \"Aslam\" , \"problem\" : \"To blame everyone\", \"fee\":1000,\"smoking fine\":3540,\"bad behaviour fine\":2187.69}\n",
    "\n",
    "for key_name,key_value in Patient.items():\n",
    "    print(\"The patient's {} is {}\".format(key_name,key_value)) \n",
    "\n",
    "Total_int = sum([sum_of_integers for sum_of_integers in Patient.values() if isinstance(sum_of_integers, int)])\n",
    "Total_float = sum([sum_of_floats for sum_of_floats in Patient.values() if isinstance(sum_of_floats, float)])\n",
    "Total = Total_int + Total_float\n",
    "                  \n",
    "print(\"\\nSum of numerical values is : {:.2f}\".format(Total))\n"
   ]
  },
  {
   "cell_type": "code",
   "execution_count": 62,
   "metadata": {},
   "outputs": [
    {
     "name": "stdout",
     "output_type": "stream",
     "text": [
      "\n",
      "List\n",
      " [\"Your're my HOMIE\", 'YOOO BRUH', \"Let's hang out\", 'Can I have your no.', 109, 312, 109, 'YOOO BRUH', \"Let's hang out\"]\n",
      "\n",
      "\n",
      "List with duplicates \n",
      " ['YOOO BRUH', \"Let's hang out\", 109, 109, 'YOOO BRUH', \"Let's hang out\"]\n",
      "\n",
      "\n",
      "Duplicates in the list \n",
      " ['YOOO BRUH', \"Let's hang out\", 109]\n"
     ]
    }
   ],
   "source": [
    "# Write a program to identify duplicate values from list\n",
    "\n",
    "Defined_list = [\"Your're my HOMIE\", \"YOOO BRUH\", \"Let's hang out\" , \"Can I have your no.\", 109,312,109, \"YOOO BRUH\", \"Let's hang out\"]\n",
    "Duplicate_value = []\n",
    "Duplicate_list = []\n",
    "\n",
    "for elements in Defined_list:\n",
    "    if Defined_list.count(elements) > 1:\n",
    "        Duplicate_value.append(elements)\n",
    "\n",
    "print(\"\\nList\\n\",Defined_list)\n",
    "print(\"\\n\\nList with duplicates \\n\",Duplicate_value)\n",
    "\n",
    "for item in Duplicate_value:\n",
    "    if item not in Duplicate_list:\n",
    "        Duplicate_list.append(item)\n",
    "\n",
    "print(\"\\n\\nDuplicates in the list \\n\",Duplicate_list)"
   ]
  },
  {
   "cell_type": "code",
   "execution_count": 74,
   "metadata": {},
   "outputs": [
    {
     "name": "stdout",
     "output_type": "stream",
     "text": [
      "Please enter patient id : Patient 02\n",
      "\n",
      "ID exists\n",
      "\n",
      "The patient's first name is  Faizan\n",
      "The patient's last name is  Aslam\n",
      "The patient's problem is  To blame everyone\n"
     ]
    }
   ],
   "source": [
    "# Write a Python script to check if a given key already exists in a dictionary\n",
    "\n",
    "Patients ={\"Patient 01\" : {\"first name\" : \"Shujaat\" , \"last name\" : \"Siddique\" , \"problem\" : \"To act cool\"},\n",
    "           \"Patient 02\" : {\"first name\" : \"Faizan\" , \"last name\" : \"Aslam\" , \"problem\" : \"To blame everyone\"},\n",
    "           \"Patient 03\" : {\"first name\" : \"Zunair\" , \"last name\" : \"Ali Syed\" , \"problem\" : \"Ego boy\"}}\n",
    "\n",
    "\n",
    "Find_Key = input(\"Please enter patient id : \")\n",
    "\n",
    "if Find_Key in Patients:\n",
    "    print(\"\\nID exists\\n\")\n",
    "    for key_name,key_value in Patients[Find_Key].items():\n",
    "        print(\"The patient's \" +key_name+ \" is \",key_value)\n",
    "else:\n",
    "    print(\"ID dose not exist\")"
   ]
  },
  {
   "cell_type": "code",
   "execution_count": null,
   "metadata": {},
   "outputs": [],
   "source": []
  }
 ],
 "metadata": {
  "kernelspec": {
   "display_name": "Python 3",
   "language": "python",
   "name": "python3"
  },
  "language_info": {
   "codemirror_mode": {
    "name": "ipython",
    "version": 3
   },
   "file_extension": ".py",
   "mimetype": "text/x-python",
   "name": "python",
   "nbconvert_exporter": "python",
   "pygments_lexer": "ipython3",
   "version": "3.7.4"
  }
 },
 "nbformat": 4,
 "nbformat_minor": 2
}
